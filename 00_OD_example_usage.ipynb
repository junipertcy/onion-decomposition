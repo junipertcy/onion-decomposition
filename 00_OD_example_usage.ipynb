{
 "cells": [
  {
   "cell_type": "code",
   "execution_count": 20,
   "metadata": {},
   "outputs": [],
   "source": [
    "import numpy as np\n",
    "import graph_tool.all as gt"
   ]
  },
  {
   "cell_type": "code",
   "execution_count": 206,
   "metadata": {},
   "outputs": [],
   "source": [
    "g = gt.collection.data[\"karate\"]\n",
    "m = gt.adjacency(g)\n",
    "m = np.array(m.todense())"
   ]
  },
  {
   "cell_type": "code",
   "execution_count": 207,
   "metadata": {},
   "outputs": [
    {
     "data": {
      "text/plain": [
       "array([[0., 1., 1., ..., 1., 0., 0.],\n",
       "       [1., 0., 1., ..., 0., 0., 0.],\n",
       "       [1., 1., 0., ..., 0., 1., 0.],\n",
       "       ...,\n",
       "       [1., 0., 0., ..., 0., 1., 1.],\n",
       "       [0., 0., 1., ..., 1., 0., 1.],\n",
       "       [0., 0., 0., ..., 1., 1., 0.]])"
      ]
     },
     "execution_count": 207,
     "metadata": {},
     "output_type": "execute_result"
    }
   ],
   "source": [
    "m"
   ]
  },
  {
   "cell_type": "code",
   "execution_count": 208,
   "metadata": {},
   "outputs": [
    {
     "data": {
      "text/plain": [
       "(array([4., 4., 4., 4., 3., 3., 3., 4., 4., 2., 3., 1., 2., 4., 2., 2., 2.,\n",
       "        2., 2., 3., 2., 2., 2., 3., 3., 3., 2., 3., 3., 3., 4., 3., 4., 4.]),\n",
       " array([7., 6., 7., 6., 3., 3., 3., 5., 6., 2., 3., 1., 2., 6., 2., 2., 2.,\n",
       "        2., 2., 3., 2., 2., 2., 4., 3., 3., 2., 4., 3., 3., 5., 4., 5., 5.]))"
      ]
     },
     "execution_count": 208,
     "metadata": {},
     "output_type": "execute_result"
    }
   ],
   "source": [
    "OD(m)"
   ]
  },
  {
   "cell_type": "code",
   "execution_count": 210,
   "metadata": {},
   "outputs": [],
   "source": [
    "# read SBM\n",
    "g = gt.load_graph(\"/Users/tzuchi/Workspace/research/bp_active/input/N_100-Q_2-method_cab_ec-eps_0.1-c_3.0-0.00675571392128.gml\")\n",
    "m = gt.adjacency(g)\n",
    "m = np.array(m.todense())"
   ]
  },
  {
   "cell_type": "code",
   "execution_count": 211,
   "metadata": {},
   "outputs": [
    {
     "data": {
      "text/plain": [
       "(array([1., 2., 1., 1., 2., 1., 2., 1., 2., 2., 1., 2., 2., 2., 1., 2., 2.,\n",
       "        2., 2., 1., 2., 2., 2., 2., 1., 2., 2., 2., 2., 1., 2., 2., 2., 2.,\n",
       "        2., 1., 1., 2., 2., 2., 2., 2., 1., 2., 2., 2., 1., 2., 2., 2., 2.,\n",
       "        2., 2., 2., 1., 1., 1., 2., 2., 2., 2., 1., 1., 2., 2., 2., 2., 1.,\n",
       "        2., 2., 2., 1., 1., 2., 2., 2., 1., 2., 2., 2., 2., 2., 2., 2., 2.,\n",
       "        2., 2., 1., 2., 2., 2., 1., 1., 2., 2., 2., 2., 2., 2., 1.]),\n",
       " array([ 2., 16.,  1.,  1., 14.,  1.,  4.,  1.,  3.,  4.,  1.,  3.,  6.,\n",
       "         3.,  1.,  4.,  8.,  3.,  5.,  1., 14., 13.,  3.,  3.,  1., 16.,\n",
       "        17., 12.,  4.,  1.,  3.,  3., 13.,  4.,  5.,  1.,  1.,  9., 17.,\n",
       "         8.,  7., 10.,  1., 11., 15., 10.,  2.,  9.,  3., 10.,  5., 13.,\n",
       "        12.,  3.,  1.,  1.,  1., 11., 10.,  4., 12.,  2.,  1.,  4.,  6.,\n",
       "         6.,  3.,  1.,  4.,  5.,  7.,  1.,  1.,  3.,  5., 11.,  1.,  3.,\n",
       "        10.,  8.,  7.,  9.,  3.,  5.,  3.,  4.,  3.,  1.,  3., 12.,  3.,\n",
       "         1.,  1.,  5., 13.,  6.,  3.,  9.,  3.,  2.]))"
      ]
     },
     "execution_count": 211,
     "metadata": {},
     "output_type": "execute_result"
    }
   ],
   "source": [
    "OD(m)"
   ]
  },
  {
   "cell_type": "code",
   "execution_count": 176,
   "metadata": {},
   "outputs": [],
   "source": [
    "def OD(mat):\n",
    "    m, n = mat.shape\n",
    "    assert m == n, \"Adjacency matrix must be square\"\n",
    "    assert np.array_equal(mat, mat.transpose()), \"Adjaceny matrix must be symmetric\"\n",
    "    deg = np.resize(np.sum(mat, 0), m).astype(int)\n",
    "    core = layer = 1\n",
    "    \n",
    "    unexplored_vtx = np.full(m, True)\n",
    "    \n",
    "    corelist = np.zeros(m)\n",
    "    layerlist = np.zeros(m)\n",
    "\n",
    "    while np.any(unexplored_vtx):\n",
    "        this_layer = np.full(m, False)\n",
    "        this_layer = [True if (deg_ <= core and unexplored_vtx[idx]) else False for idx, deg_ in enumerate(deg)]\n",
    "        for vtx_idx, vtx in enumerate(this_layer):\n",
    "            if vtx:\n",
    "                corelist[vtx_idx] = core\n",
    "                layerlist[vtx_idx] = layer\n",
    "                for target_vtx_idx, target_vtx in enumerate(mat[vtx_idx]):\n",
    "                    if target_vtx == 1:\n",
    "                        deg[target_vtx_idx] -= 1\n",
    "                unexplored_vtx[vtx_idx] = False\n",
    "        layer += 1\n",
    "        deg_for_core = [deg[idx] for idx, d in enumerate(unexplored_vtx) if d]\n",
    "        if len(deg_for_core) > 0 and min(deg_for_core) >= core + 1:\n",
    "            core = min(deg_for_core)\n",
    "            \n",
    "    return corelist, layerlist\n"
   ]
  },
  {
   "cell_type": "code",
   "execution_count": 183,
   "metadata": {},
   "outputs": [],
   "source": [
    "#       9--8--10        11-----      15\n",
    "#          |            |     |      |\n",
    "# 0--1--2--3--4--5------6-----7------14\n",
    "#                       |    / \\     |\n",
    "#                       ----12-13    16\n",
    "g = gt.Graph()\n",
    "g.add_edge(0, 1)\n",
    "g.add_edge(1, 2)\n",
    "g.add_edge(2, 3)\n",
    "g.add_edge(3, 8)\n",
    "g.add_edge(8, 9)\n",
    "g.add_edge(8, 10)\n",
    "g.add_edge(3, 4)\n",
    "g.add_edge(4, 5)\n",
    "g.add_edge(5, 6)\n",
    "g.add_edge(6, 11)\n",
    "g.add_edge(6, 7)\n",
    "g.add_edge(6, 12)\n",
    "g.add_edge(11, 7)\n",
    "g.add_edge(7, 12)\n",
    "g.add_edge(7, 13)\n",
    "g.add_edge(12, 13)\n",
    "g.add_edge(7, 14)\n",
    "g.add_edge(14, 15)\n",
    "g.add_edge(14, 16)\n",
    "g.set_directed(False)"
   ]
  },
  {
   "cell_type": "code",
   "execution_count": 185,
   "metadata": {},
   "outputs": [],
   "source": [
    "m = gt.adjacency(g)\n",
    "m = np.array(m.todense())"
   ]
  },
  {
   "cell_type": "code",
   "execution_count": 186,
   "metadata": {},
   "outputs": [
    {
     "data": {
      "text/plain": [
       "(array([1., 1., 1., 1., 1., 1., 2., 2., 1., 1., 1., 2., 2., 2., 1., 1., 1.]),\n",
       " array([1., 2., 3., 4., 5., 6., 8., 8., 2., 1., 1., 7., 8., 7., 2., 1., 1.]))"
      ]
     },
     "execution_count": 186,
     "metadata": {},
     "output_type": "execute_result"
    }
   ],
   "source": [
    "OD(m)"
   ]
  },
  {
   "cell_type": "code",
   "execution_count": 203,
   "metadata": {},
   "outputs": [],
   "source": [
    "#      1-----\n",
    "#     / \\   |\n",
    "# 4--0---3  |\n",
    "#     \\ /   |\n",
    "#      2-----\n",
    "\n",
    "g = gt.Graph()\n",
    "g.add_edge(0, 1)\n",
    "g.add_edge(0, 2)\n",
    "g.add_edge(0, 3)\n",
    "g.add_edge(0, 4)\n",
    "g.add_edge(1, 2)\n",
    "g.add_edge(1, 3)\n",
    "g.add_edge(2, 3)\n",
    "g.set_directed(False)\n"
   ]
  },
  {
   "cell_type": "code",
   "execution_count": 204,
   "metadata": {},
   "outputs": [],
   "source": [
    "m = gt.adjacency(g)\n",
    "m = np.array(m.todense())"
   ]
  },
  {
   "cell_type": "code",
   "execution_count": 205,
   "metadata": {},
   "outputs": [
    {
     "data": {
      "text/plain": [
       "(array([3., 3., 3., 3., 1.]), array([2., 2., 2., 2., 1.]))"
      ]
     },
     "execution_count": 205,
     "metadata": {},
     "output_type": "execute_result"
    }
   ],
   "source": [
    "OD(m)"
   ]
  },
  {
   "cell_type": "code",
   "execution_count": 201,
   "metadata": {},
   "outputs": [
    {
     "data": {
      "text/plain": [
       "True"
      ]
     },
     "execution_count": 201,
     "metadata": {},
     "output_type": "execute_result"
    }
   ],
   "source": [
    "[1, 1, 1, 1, 1, 1, 2, 2, 1, 1, 1, 2, 2, 2, 1, 1, 1] == a"
   ]
  },
  {
   "cell_type": "code",
   "execution_count": 196,
   "metadata": {},
   "outputs": [
    {
     "data": {
      "text/plain": [
       "True"
      ]
     },
     "execution_count": 196,
     "metadata": {},
     "output_type": "execute_result"
    }
   ],
   "source": [
    "layers == b"
   ]
  },
  {
   "cell_type": "code",
   "execution_count": null,
   "metadata": {},
   "outputs": [],
   "source": []
  }
 ],
 "metadata": {
  "kernelspec": {
   "display_name": "Python 3",
   "language": "python",
   "name": "python3"
  },
  "language_info": {
   "codemirror_mode": {
    "name": "ipython",
    "version": 3
   },
   "file_extension": ".py",
   "mimetype": "text/x-python",
   "name": "python",
   "nbconvert_exporter": "python",
   "pygments_lexer": "ipython3",
   "version": "3.6.5"
  }
 },
 "nbformat": 4,
 "nbformat_minor": 2
}
