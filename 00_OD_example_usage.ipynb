{
 "cells": [
  {
   "cell_type": "markdown",
   "metadata": {},
   "source": [
    "# Example usage\n",
    "First things first, let's import the libraries."
   ]
  },
  {
   "cell_type": "code",
   "execution_count": 1,
   "metadata": {},
   "outputs": [],
   "source": [
    "import numpy as np\n",
    "import igraph as ig\n",
    "\n",
    "from onion_decomposition import od"
   ]
  },
  {
   "cell_type": "markdown",
   "metadata": {},
   "source": [
    "## Karate Club network\n",
    "Note that `od.compute(m)` outputs `corelist` first, followed by `layerlist`."
   ]
  },
  {
   "cell_type": "code",
   "execution_count": 2,
   "metadata": {},
   "outputs": [],
   "source": [
    "g = ig.load('dataset/karate.gml')\n",
    "m = np.array(g.get_adjacency().data)"
   ]
  },
  {
   "cell_type": "markdown",
   "metadata": {},
   "source": [
    "We now obtain the adjacency matrix (as a `numpy.ndarray`) that acts as the input for the function `od.compute`."
   ]
  },
  {
   "cell_type": "code",
   "execution_count": 3,
   "metadata": {},
   "outputs": [
    {
     "data": {
      "text/plain": [
       "array([[0, 1, 1, ..., 1, 0, 0],\n",
       "       [1, 0, 1, ..., 0, 0, 0],\n",
       "       [1, 1, 0, ..., 0, 1, 0],\n",
       "       ...,\n",
       "       [1, 0, 0, ..., 0, 1, 1],\n",
       "       [0, 0, 1, ..., 1, 0, 1],\n",
       "       [0, 0, 0, ..., 1, 1, 0]])"
      ]
     },
     "execution_count": 3,
     "metadata": {},
     "output_type": "execute_result"
    }
   ],
   "source": [
    "m"
   ]
  },
  {
   "cell_type": "markdown",
   "metadata": {},
   "source": [
    "Now, the onion decomposition goes:"
   ]
  },
  {
   "cell_type": "code",
   "execution_count": 4,
   "metadata": {},
   "outputs": [
    {
     "data": {
      "text/plain": [
       "(array([4, 4, 4, 4, 3, 3, 3, 4, 4, 2, 3, 1, 2, 4, 2, 2, 2, 2, 2, 3, 2, 2,\n",
       "        2, 3, 3, 3, 2, 3, 3, 3, 4, 3, 4, 4]),\n",
       " array([7, 6, 7, 6, 3, 3, 3, 5, 6, 2, 3, 1, 2, 6, 2, 2, 2, 2, 2, 3, 2, 2,\n",
       "        2, 4, 3, 3, 2, 4, 3, 3, 5, 4, 5, 5]))"
      ]
     },
     "execution_count": 4,
     "metadata": {},
     "output_type": "execute_result"
    }
   ],
   "source": [
    "od.compute(m)"
   ]
  },
  {
   "cell_type": "markdown",
   "metadata": {},
   "source": [
    "## Stochastic Block Model generated network\n",
    "Note that `od.compute(m)` outputs `corelist` first, followed by `layerlist`."
   ]
  },
  {
   "cell_type": "code",
   "execution_count": 5,
   "metadata": {},
   "outputs": [
    {
     "data": {
      "text/plain": [
       "(array([1, 2, 1, 1, 2, 1, 2, 1, 2, 2, 1, 2, 2, 2, 1, 2, 2, 2, 2, 1, 2, 2,\n",
       "        2, 2, 1, 2, 2, 2, 2, 1, 2, 2, 2, 2, 2, 1, 1, 2, 2, 2, 2, 2, 1, 2,\n",
       "        2, 2, 1, 2, 2, 2, 2, 2, 2, 2, 1, 1, 1, 2, 2, 2, 2, 1, 1, 2, 2, 2,\n",
       "        2, 1, 2, 2, 2, 1, 1, 2, 2, 2, 1, 2, 2, 2, 2, 2, 2, 2, 2, 2, 2, 1,\n",
       "        2, 2, 2, 1, 1, 2, 2, 2, 2, 2, 2, 1]),\n",
       " array([ 2, 16,  1,  1, 14,  1,  4,  1,  3,  4,  1,  3,  6,  3,  1,  4,  8,\n",
       "         3,  5,  1, 14, 13,  3,  3,  1, 16, 17, 12,  4,  1,  3,  3, 13,  4,\n",
       "         5,  1,  1,  9, 17,  8,  7, 10,  1, 11, 15, 10,  2,  9,  3, 10,  5,\n",
       "        13, 12,  3,  1,  1,  1, 11, 10,  4, 12,  2,  1,  4,  6,  6,  3,  1,\n",
       "         4,  5,  7,  1,  1,  3,  5, 11,  1,  3, 10,  8,  7,  9,  3,  5,  3,\n",
       "         4,  3,  1,  3, 12,  3,  1,  1,  5, 13,  6,  3,  9,  3,  2]))"
      ]
     },
     "execution_count": 5,
     "metadata": {},
     "output_type": "execute_result"
    }
   ],
   "source": [
    "g = ig.load('dataset/sbm_n_100-q_2-eps_0.1-c_3.0.gml')\n",
    "m = np.array(g.get_adjacency().data)\n",
    "od.compute(m)"
   ]
  },
  {
   "cell_type": "code",
   "execution_count": null,
   "metadata": {},
   "outputs": [],
   "source": []
  }
 ],
 "metadata": {
  "kernelspec": {
   "display_name": "Python 3",
   "language": "python",
   "name": "python3"
  },
  "language_info": {
   "codemirror_mode": {
    "name": "ipython",
    "version": 3
   },
   "file_extension": ".py",
   "mimetype": "text/x-python",
   "name": "python",
   "nbconvert_exporter": "python",
   "pygments_lexer": "ipython3",
   "version": "3.6.5"
  }
 },
 "nbformat": 4,
 "nbformat_minor": 2
}
